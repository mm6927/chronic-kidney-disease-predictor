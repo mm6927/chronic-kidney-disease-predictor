{
 "cells": [
  {
   "cell_type": "code",
   "execution_count": 1,
   "id": "cc279961",
   "metadata": {
    "execution": {
     "iopub.execute_input": "2023-07-08T08:37:47.368292Z",
     "iopub.status.busy": "2023-07-08T08:37:47.367578Z",
     "iopub.status.idle": "2023-07-08T08:37:49.820283Z",
     "shell.execute_reply": "2023-07-08T08:37:49.819605Z"
    },
    "id": "cc279961",
    "papermill": {
     "duration": 2.47033,
     "end_time": "2023-07-08T08:37:49.822449",
     "exception": false,
     "start_time": "2023-07-08T08:37:47.352119",
     "status": "completed"
    },
    "tags": []
   },
   "outputs": [],
   "source": [
    "import numpy as np\n",
    "import pandas as pd\n",
    "import warnings\n",
    "warnings.filterwarnings('ignore')\n",
    "import matplotlib.pyplot as plt\n",
    "import seaborn as sns"
   ]
  },
  {
   "cell_type": "code",
   "execution_count": 2,
   "id": "e59e1796",
   "metadata": {
    "execution": {
     "iopub.execute_input": "2023-07-08T08:37:49.883252Z",
     "iopub.status.busy": "2023-07-08T08:37:49.882685Z",
     "iopub.status.idle": "2023-07-08T08:37:49.903403Z",
     "shell.execute_reply": "2023-07-08T08:37:49.902794Z"
    },
    "id": "e59e1796",
    "papermill": {
     "duration": 0.039624,
     "end_time": "2023-07-08T08:37:49.905552",
     "exception": false,
     "start_time": "2023-07-08T08:37:49.865928",
     "status": "completed"
    },
    "tags": []
   },
   "outputs": [],
   "source": [
    "df=pd.read_csv(\"data.csv\")"
   ]
  },
  {
   "cell_type": "code",
   "execution_count": null,
   "id": "33105ce9",
   "metadata": {
    "colab": {
     "base_uri": "https://localhost:8080/",
     "height": 256
    },
    "execution": {
     "iopub.execute_input": "2023-07-08T08:37:49.965569Z",
     "iopub.status.busy": "2023-07-08T08:37:49.965052Z",
     "iopub.status.idle": "2023-07-08T08:37:50.003396Z",
     "shell.execute_reply": "2023-07-08T08:37:50.002796Z"
    },
    "id": "33105ce9",
    "outputId": "db5e393a-15b3-44d5-fedb-c49f79abde5f",
    "papermill": {
     "duration": 0.05624,
     "end_time": "2023-07-08T08:37:50.005252",
     "exception": false,
     "start_time": "2023-07-08T08:37:49.949012",
     "status": "completed"
    },
    "tags": []
   },
   "outputs": [],
   "source": [
    "df.head()"
   ]
  },
  {
   "cell_type": "code",
   "execution_count": null,
   "id": "65282d02",
   "metadata": {
    "id": "65282d02"
   },
   "outputs": [],
   "source": [
    "df=df[['age','bp','sg','al','su','rbc','pc','pcc','ba','appet','pe','ane','classification']]"
   ]
  },
  {
   "cell_type": "code",
   "execution_count": null,
   "id": "4d719b59",
   "metadata": {
    "colab": {
     "base_uri": "https://localhost:8080/",
     "height": 424
    },
    "id": "4d719b59",
    "outputId": "7daf7c4c-846a-4781-d69e-c8c48b28b253"
   },
   "outputs": [],
   "source": [
    "df"
   ]
  },
  {
   "cell_type": "code",
   "execution_count": null,
   "id": "bd797864",
   "metadata": {
    "id": "bd797864"
   },
   "outputs": [],
   "source": [
    "df=df.replace(to_replace=[\"ckd\"],\n",
    "           value=0)\n",
    "df=df.replace(to_replace=[\"notckd\"],\n",
    "           value=1)\n",
    "df=df.replace(to_replace=[\"ckd\\t\"],\n",
    "           value=0)"
   ]
  },
  {
   "cell_type": "code",
   "execution_count": null,
   "id": "a9ca93d7",
   "metadata": {
    "id": "a9ca93d7"
   },
   "outputs": [],
   "source": [
    "df=df.replace(to_replace=[\"normal\",\"notpresent\",\"good\",\"no\"],\n",
    "           value=0)\n",
    "df=df.replace(to_replace=[\"abnormal\",\"present\",\"poor\",\"yes\"],\n",
    "           value=1)"
   ]
  },
  {
   "cell_type": "code",
   "execution_count": null,
   "id": "4857ec40",
   "metadata": {
    "colab": {
     "base_uri": "https://localhost:8080/",
     "height": 424
    },
    "id": "4857ec40",
    "outputId": "dad3353a-e362-420f-f37a-1c226b8a3494"
   },
   "outputs": [],
   "source": [
    "df"
   ]
  },
  {
   "cell_type": "code",
   "execution_count": null,
   "id": "be9bca5c",
   "metadata": {
    "colab": {
     "base_uri": "https://localhost:8080/"
    },
    "execution": {
     "iopub.execute_input": "2023-07-08T08:37:50.035359Z",
     "iopub.status.busy": "2023-07-08T08:37:50.034804Z",
     "iopub.status.idle": "2023-07-08T08:37:50.058853Z",
     "shell.execute_reply": "2023-07-08T08:37:50.057497Z"
    },
    "id": "be9bca5c",
    "outputId": "aa33fe19-5ae9-4cc6-9242-62f470e41743",
    "papermill": {
     "duration": 0.041412,
     "end_time": "2023-07-08T08:37:50.060922",
     "exception": false,
     "start_time": "2023-07-08T08:37:50.019510",
     "status": "completed"
    },
    "tags": []
   },
   "outputs": [],
   "source": [
    "df.info()"
   ]
  },
  {
   "cell_type": "code",
   "execution_count": null,
   "id": "c5ba682f",
   "metadata": {
    "colab": {
     "base_uri": "https://localhost:8080/",
     "height": 492
    },
    "execution": {
     "iopub.execute_input": "2023-07-08T08:37:50.148597Z",
     "iopub.status.busy": "2023-07-08T08:37:50.148046Z",
     "iopub.status.idle": "2023-07-08T08:37:50.154670Z",
     "shell.execute_reply": "2023-07-08T08:37:50.154064Z"
    },
    "id": "c5ba682f",
    "outputId": "0a615a59-bffd-4c3f-ab4a-d5540a1d8bf9",
    "papermill": {
     "duration": 0.024259,
     "end_time": "2023-07-08T08:37:50.156602",
     "exception": false,
     "start_time": "2023-07-08T08:37:50.132343",
     "status": "completed"
    },
    "tags": []
   },
   "outputs": [],
   "source": [
    "df.isna().sum()"
   ]
  },
  {
   "cell_type": "code",
   "execution_count": null,
   "id": "a24a1179",
   "metadata": {
    "id": "a24a1179"
   },
   "outputs": [],
   "source": [
    "df['age']=df['age'].fillna(df['age'].mean())\n",
    "df['bp']=df['bp'].fillna(df['bp'].mean())\n",
    "df['sg']=df['sg'].fillna(df['sg'].mean())\n",
    "df['al']=df['al'].fillna(df['al'].mean())\n",
    "df['su']=df['su'].fillna(df['su'].mean())\n",
    "df['rbc']=df['rbc'].fillna(df['rbc'].mean())\n",
    "df['pc']=df['pc'].fillna(df['pc'].mean())\n",
    "df['pcc']=df['pcc'].fillna(df['pcc'].mean())\n",
    "df['ba']=df['ba'].fillna(df['ba'].mean())\n",
    "df['appet']=df['appet'].fillna(df['appet'].mean())\n",
    "df['pe']=df['pe'].fillna(df['pe'].mean())\n",
    "df['ane']=df['ane'].fillna(df['ane'].mean())"
   ]
  },
  {
   "cell_type": "code",
   "execution_count": null,
   "id": "2d15458a",
   "metadata": {
    "colab": {
     "base_uri": "https://localhost:8080/",
     "height": 492
    },
    "id": "2d15458a",
    "outputId": "c64c2e4b-d704-4df6-bd38-3795f798f759"
   },
   "outputs": [],
   "source": [
    "df.isna().sum()"
   ]
  },
  {
   "cell_type": "code",
   "execution_count": null,
   "id": "e6eee762",
   "metadata": {
    "colab": {
     "base_uri": "https://localhost:8080/",
     "height": 320
    },
    "execution": {
     "iopub.execute_input": "2023-07-08T08:37:50.217600Z",
     "iopub.status.busy": "2023-07-08T08:37:50.217278Z",
     "iopub.status.idle": "2023-07-08T08:37:50.282095Z",
     "shell.execute_reply": "2023-07-08T08:37:50.280910Z"
    },
    "id": "e6eee762",
    "outputId": "0f185def-16e9-47ed-9729-a6fe1a5e2054",
    "papermill": {
     "duration": 0.082976,
     "end_time": "2023-07-08T08:37:50.284032",
     "exception": false,
     "start_time": "2023-07-08T08:37:50.201056",
     "status": "completed"
    },
    "tags": []
   },
   "outputs": [],
   "source": [
    "df.describe()"
   ]
  },
  {
   "cell_type": "code",
   "execution_count": null,
   "id": "3f500fa4",
   "metadata": {
    "colab": {
     "base_uri": "https://localhost:8080/"
    },
    "execution": {
     "iopub.execute_input": "2023-07-08T08:37:50.315782Z",
     "iopub.status.busy": "2023-07-08T08:37:50.315435Z",
     "iopub.status.idle": "2023-07-08T08:37:50.321304Z",
     "shell.execute_reply": "2023-07-08T08:37:50.320659Z"
    },
    "id": "3f500fa4",
    "outputId": "f2c72877-3b18-4b9b-e6ca-5e4046e0003e",
    "papermill": {
     "duration": 0.023523,
     "end_time": "2023-07-08T08:37:50.322792",
     "exception": false,
     "start_time": "2023-07-08T08:37:50.299269",
     "status": "completed"
    },
    "tags": []
   },
   "outputs": [],
   "source": [
    "df.columns"
   ]
  },
  {
   "cell_type": "code",
   "execution_count": null,
   "id": "9d8d9aa8",
   "metadata": {
    "colab": {
     "base_uri": "https://localhost:8080/",
     "height": 789
    },
    "execution": {
     "iopub.execute_input": "2023-07-08T08:37:50.560235Z",
     "iopub.status.busy": "2023-07-08T08:37:50.559189Z",
     "iopub.status.idle": "2023-07-08T08:37:54.439777Z",
     "shell.execute_reply": "2023-07-08T08:37:54.438698Z"
    },
    "id": "9d8d9aa8",
    "outputId": "0a347ef7-51ad-4764-c294-944b4381dccb",
    "papermill": {
     "duration": 3.898774,
     "end_time": "2023-07-08T08:37:54.441902",
     "exception": false,
     "start_time": "2023-07-08T08:37:50.543128",
     "status": "completed"
    },
    "tags": []
   },
   "outputs": [],
   "source": [
    "df.hist(bins=50, figsize =(20,15), color = 'darkslategrey')\n",
    "plt.show(block=False)"
   ]
  },
  {
   "cell_type": "code",
   "execution_count": null,
   "id": "650f89d9",
   "metadata": {
    "colab": {
     "base_uri": "https://localhost:8080/",
     "height": 447
    },
    "id": "650f89d9",
    "outputId": "f5fda7aa-be70-43b9-9d3c-772608109047"
   },
   "outputs": [],
   "source": [
    "sns.lineplot(data=df.head(100))"
   ]
  },
  {
   "cell_type": "code",
   "execution_count": null,
   "id": "d4d26fcc",
   "metadata": {
    "colab": {
     "base_uri": "https://localhost:8080/",
     "height": 629
    },
    "execution": {
     "iopub.execute_input": "2023-07-08T08:37:55.158167Z",
     "iopub.status.busy": "2023-07-08T08:37:55.157849Z",
     "iopub.status.idle": "2023-07-08T08:37:56.556380Z",
     "shell.execute_reply": "2023-07-08T08:37:56.555259Z"
    },
    "id": "d4d26fcc",
    "outputId": "73eb8346-9d94-4c27-c398-5bf3a0e801ea",
    "papermill": {
     "duration": 1.420401,
     "end_time": "2023-07-08T08:37:56.559721",
     "exception": false,
     "start_time": "2023-07-08T08:37:55.139320",
     "status": "completed"
    },
    "tags": []
   },
   "outputs": [],
   "source": [
    "plt.figure(figsize=(30,16))\n",
    "sns.heatmap(df.corr(), annot = True, cmap = 'Greens',annot_kws={'size':19})\n",
    "plt.show()"
   ]
  },
  {
   "cell_type": "code",
   "execution_count": null,
   "id": "79d1e46d",
   "metadata": {
    "colab": {
     "base_uri": "https://localhost:8080/",
     "height": 424
    },
    "id": "79d1e46d",
    "outputId": "d056a70f-d17f-4f4d-c73f-4b8d1697f4ba"
   },
   "outputs": [],
   "source": [
    "df"
   ]
  },
  {
   "cell_type": "code",
   "execution_count": null,
   "id": "05ad4730",
   "metadata": {
    "execution": {
     "iopub.execute_input": "2023-07-08T08:37:57.105609Z",
     "iopub.status.busy": "2023-07-08T08:37:57.105311Z",
     "iopub.status.idle": "2023-07-08T08:37:57.111349Z",
     "shell.execute_reply": "2023-07-08T08:37:57.110198Z"
    },
    "id": "05ad4730",
    "papermill": {
     "duration": 0.03561,
     "end_time": "2023-07-08T08:37:57.113324",
     "exception": false,
     "start_time": "2023-07-08T08:37:57.077714",
     "status": "completed"
    },
    "tags": []
   },
   "outputs": [],
   "source": [
    "X=df.drop(['classification'],axis=1)\n",
    "y=df[\"classification\"]"
   ]
  },
  {
   "cell_type": "code",
   "execution_count": null,
   "id": "f848a367",
   "metadata": {
    "colab": {
     "base_uri": "https://localhost:8080/",
     "height": 424
    },
    "id": "f848a367",
    "outputId": "77847d58-472c-450c-dd71-b37beedb5f27"
   },
   "outputs": [],
   "source": [
    "X"
   ]
  },
  {
   "cell_type": "code",
   "execution_count": null,
   "id": "d9c9ef51",
   "metadata": {
    "colab": {
     "base_uri": "https://localhost:8080/"
    },
    "execution": {
     "iopub.execute_input": "2023-07-08T08:37:57.655870Z",
     "iopub.status.busy": "2023-07-08T08:37:57.655246Z",
     "iopub.status.idle": "2023-07-08T08:37:57.661352Z",
     "shell.execute_reply": "2023-07-08T08:37:57.659841Z"
    },
    "id": "d9c9ef51",
    "outputId": "e2b35cba-eb2c-41cb-b6f9-3f8da3e89d65",
    "papermill": {
     "duration": 0.036055,
     "end_time": "2023-07-08T08:37:57.663216",
     "exception": false,
     "start_time": "2023-07-08T08:37:57.627161",
     "status": "completed"
    },
    "tags": []
   },
   "outputs": [],
   "source": [
    "from sklearn.model_selection import train_test_split\n",
    "X_train, X_test, y_train, y_test = train_test_split(X, y, test_size=0.2, random_state=42)\n",
    "print(X_train.shape,X_test.shape,y_train.shape,y_test.shape)"
   ]
  },
  {
   "cell_type": "code",
   "execution_count": null,
   "id": "76b077c9",
   "metadata": {
    "id": "76b077c9",
    "outputId": "a8a8aa3b-4b23-4405-e602-c22cb399bc4a"
   },
   "outputs": [],
   "source": [
    "from sklearn.neighbors import KNeighborsClassifier\n",
    "KNN = KNeighborsClassifier()\n",
    "KNN.fit(X_train, y_train)"
   ]
  },
  {
   "cell_type": "code",
   "execution_count": null,
   "id": "914d1e79",
   "metadata": {
    "id": "914d1e79",
    "outputId": "0b02d64d-7443-4798-c097-0856f8064a97"
   },
   "outputs": [],
   "source": [
    "print(KNN.score(X_train, y_train))"
   ]
  },
  {
   "cell_type": "code",
   "execution_count": null,
   "id": "ec2e3006",
   "metadata": {
    "id": "ec2e3006",
    "outputId": "105ee804-0a1d-4919-cc3c-10bc88ccf6d8",
    "papermill": {
     "duration": 0.038029,
     "end_time": "2023-07-08T08:38:11.468497",
     "exception": false,
     "start_time": "2023-07-08T08:38:11.430468",
     "status": "completed"
    },
    "tags": []
   },
   "outputs": [],
   "source": [
    "from sklearn.naive_bayes import GaussianNB\n",
    "gnb = GaussianNB()\n",
    "gnb.fit(X_train, y_train)"
   ]
  },
  {
   "cell_type": "code",
   "execution_count": null,
   "id": "8890e45d",
   "metadata": {
    "id": "8890e45d",
    "outputId": "01abc6fc-a153-40ff-ec05-21879d186ac8",
    "papermill": {
     "duration": 0.035987,
     "end_time": "2023-07-08T08:38:11.541571",
     "exception": false,
     "start_time": "2023-07-08T08:38:11.505584",
     "status": "completed"
    },
    "tags": []
   },
   "outputs": [
    {
     "name": "stdout",
     "output_type": "stream",
     "text": [
      "0.915625\n"
     ]
    }
   ],
   "source": [
    "print(gnb.score(X_train, y_train))"
   ]
  },
  {
   "cell_type": "code",
   "execution_count": null,
   "id": "0d8b469b",
   "metadata": {
    "id": "0d8b469b",
    "outputId": "2eda3f3a-a1b3-4399-d27d-89f676e5e234"
   },
   "outputs": [
    {
     "data": {
      "text/html": [
       "<style>#sk-container-id-3 {color: black;}#sk-container-id-3 pre{padding: 0;}#sk-container-id-3 div.sk-toggleable {background-color: white;}#sk-container-id-3 label.sk-toggleable__label {cursor: pointer;display: block;width: 100%;margin-bottom: 0;padding: 0.3em;box-sizing: border-box;text-align: center;}#sk-container-id-3 label.sk-toggleable__label-arrow:before {content: \"▸\";float: left;margin-right: 0.25em;color: #696969;}#sk-container-id-3 label.sk-toggleable__label-arrow:hover:before {color: black;}#sk-container-id-3 div.sk-estimator:hover label.sk-toggleable__label-arrow:before {color: black;}#sk-container-id-3 div.sk-toggleable__content {max-height: 0;max-width: 0;overflow: hidden;text-align: left;background-color: #f0f8ff;}#sk-container-id-3 div.sk-toggleable__content pre {margin: 0.2em;color: black;border-radius: 0.25em;background-color: #f0f8ff;}#sk-container-id-3 input.sk-toggleable__control:checked~div.sk-toggleable__content {max-height: 200px;max-width: 100%;overflow: auto;}#sk-container-id-3 input.sk-toggleable__control:checked~label.sk-toggleable__label-arrow:before {content: \"▾\";}#sk-container-id-3 div.sk-estimator input.sk-toggleable__control:checked~label.sk-toggleable__label {background-color: #d4ebff;}#sk-container-id-3 div.sk-label input.sk-toggleable__control:checked~label.sk-toggleable__label {background-color: #d4ebff;}#sk-container-id-3 input.sk-hidden--visually {border: 0;clip: rect(1px 1px 1px 1px);clip: rect(1px, 1px, 1px, 1px);height: 1px;margin: -1px;overflow: hidden;padding: 0;position: absolute;width: 1px;}#sk-container-id-3 div.sk-estimator {font-family: monospace;background-color: #f0f8ff;border: 1px dotted black;border-radius: 0.25em;box-sizing: border-box;margin-bottom: 0.5em;}#sk-container-id-3 div.sk-estimator:hover {background-color: #d4ebff;}#sk-container-id-3 div.sk-parallel-item::after {content: \"\";width: 100%;border-bottom: 1px solid gray;flex-grow: 1;}#sk-container-id-3 div.sk-label:hover label.sk-toggleable__label {background-color: #d4ebff;}#sk-container-id-3 div.sk-serial::before {content: \"\";position: absolute;border-left: 1px solid gray;box-sizing: border-box;top: 0;bottom: 0;left: 50%;z-index: 0;}#sk-container-id-3 div.sk-serial {display: flex;flex-direction: column;align-items: center;background-color: white;padding-right: 0.2em;padding-left: 0.2em;position: relative;}#sk-container-id-3 div.sk-item {position: relative;z-index: 1;}#sk-container-id-3 div.sk-parallel {display: flex;align-items: stretch;justify-content: center;background-color: white;position: relative;}#sk-container-id-3 div.sk-item::before, #sk-container-id-3 div.sk-parallel-item::before {content: \"\";position: absolute;border-left: 1px solid gray;box-sizing: border-box;top: 0;bottom: 0;left: 50%;z-index: -1;}#sk-container-id-3 div.sk-parallel-item {display: flex;flex-direction: column;z-index: 1;position: relative;background-color: white;}#sk-container-id-3 div.sk-parallel-item:first-child::after {align-self: flex-end;width: 50%;}#sk-container-id-3 div.sk-parallel-item:last-child::after {align-self: flex-start;width: 50%;}#sk-container-id-3 div.sk-parallel-item:only-child::after {width: 0;}#sk-container-id-3 div.sk-dashed-wrapped {border: 1px dashed gray;margin: 0 0.4em 0.5em 0.4em;box-sizing: border-box;padding-bottom: 0.4em;background-color: white;}#sk-container-id-3 div.sk-label label {font-family: monospace;font-weight: bold;display: inline-block;line-height: 1.2em;}#sk-container-id-3 div.sk-label-container {text-align: center;}#sk-container-id-3 div.sk-container {/* jupyter's `normalize.less` sets `[hidden] { display: none; }` but bootstrap.min.css set `[hidden] { display: none !important; }` so we also need the `!important` here to be able to override the default hidden behavior on the sphinx rendered scikit-learn.org. See: https://github.com/scikit-learn/scikit-learn/issues/21755 */display: inline-block !important;position: relative;}#sk-container-id-3 div.sk-text-repr-fallback {display: none;}</style><div id=\"sk-container-id-3\" class=\"sk-top-container\"><div class=\"sk-text-repr-fallback\"><pre>SVC(kernel=&#x27;linear&#x27;)</pre><b>In a Jupyter environment, please rerun this cell to show the HTML representation or trust the notebook. <br />On GitHub, the HTML representation is unable to render, please try loading this page with nbviewer.org.</b></div><div class=\"sk-container\" hidden><div class=\"sk-item\"><div class=\"sk-estimator sk-toggleable\"><input class=\"sk-toggleable__control sk-hidden--visually\" id=\"sk-estimator-id-3\" type=\"checkbox\" checked><label for=\"sk-estimator-id-3\" class=\"sk-toggleable__label sk-toggleable__label-arrow\">SVC</label><div class=\"sk-toggleable__content\"><pre>SVC(kernel=&#x27;linear&#x27;)</pre></div></div></div></div></div>"
      ],
      "text/plain": [
       "SVC(kernel='linear')"
      ]
     },
     "execution_count": 26,
     "metadata": {},
     "output_type": "execute_result"
    }
   ],
   "source": [
    "from sklearn import svm\n",
    "svm = svm.SVC(kernel='linear')  # Linear Kernel\n",
    "svm.fit(X_train, y_train)"
   ]
  },
  {
   "cell_type": "code",
   "execution_count": null,
   "id": "ee5eee72",
   "metadata": {
    "id": "ee5eee72",
    "outputId": "764876ce-ebe9-46d4-d1cb-ac2dae020fe9"
   },
   "outputs": [
    {
     "name": "stdout",
     "output_type": "stream",
     "text": [
      "0.9375\n"
     ]
    }
   ],
   "source": [
    "print(svm.score(X_train, y_train))"
   ]
  },
  {
   "cell_type": "code",
   "execution_count": null,
   "id": "4f02e3b5",
   "metadata": {
    "id": "4f02e3b5",
    "outputId": "195b508d-d775-414c-a15a-271956021c40"
   },
   "outputs": [
    {
     "name": "stdout",
     "output_type": "stream",
     "text": [
      "0.6812829070064474\n"
     ]
    }
   ],
   "source": [
    "from sklearn.linear_model import LinearRegression\n",
    "\n",
    "# Initialize the Linear Regression model\n",
    "linear_regression = LinearRegression()\n",
    "\n",
    "# Fit the model to the training data\n",
    "linear_regression.fit(X_train, y_train)\n",
    "print(linear_regression.score(X_train, y_train))"
   ]
  },
  {
   "cell_type": "code",
   "execution_count": null,
   "id": "905d20df",
   "metadata": {
    "id": "905d20df",
    "outputId": "5e99ee0c-b69a-4100-9b0a-49787789ade0"
   },
   "outputs": [
    {
     "name": "stdout",
     "output_type": "stream",
     "text": [
      "1.0\n"
     ]
    }
   ],
   "source": [
    "from sklearn.tree import DecisionTreeRegressor\n",
    "\n",
    "# Initialize the Decision Tree Regressor\n",
    "decision_tree = DecisionTreeRegressor()\n",
    "\n",
    "# Fit the model to the training data\n",
    "decision_tree.fit(X_train, y_train)\n",
    "\n",
    "# Print the R^2 score (coefficient of determination)\n",
    "print(decision_tree.score(X_train, y_train))"
   ]
  },
  {
   "cell_type": "code",
   "execution_count": null,
   "id": "2b58099c",
   "metadata": {
    "colab": {
     "base_uri": "https://localhost:8080/"
    },
    "id": "2b58099c",
    "outputId": "c3e59a88-79b8-49a6-d5fa-006a356929ff"
   },
   "outputs": [],
   "source": [
    "from sklearn.ensemble import RandomForestRegressor\n",
    "\n",
    "# Initialize the Random Forest Regressor\n",
    "random_forest = RandomForestRegressor()\n",
    "\n",
    "# Fit the model to the training data\n",
    "random_forest.fit(X_train, y_train)\n",
    "\n",
    "# Print the R^2 score\n",
    "print(random_forest.score(X_train, y_train))\n"
   ]
  },
  {
   "cell_type": "code",
   "execution_count": 27,
   "id": "wSaHAzttE6yc",
   "metadata": {
    "colab": {
     "base_uri": "https://localhost:8080/"
    },
    "id": "wSaHAzttE6yc",
    "outputId": "cf2c748d-03c8-4283-a69c-4be392eb9049"
   },
   "outputs": [
    {
     "name": "stdout",
     "output_type": "stream",
     "text": [
      "Model saved to /content/drive/MyDrive/random_forest_model.pkl\n"
     ]
    }
   ],
   "source": [
    "import joblib\n",
    "\n",
    "#@ Define the path to save the model\n",
    "#model_path = '/content/drive/MyDrive/random_forest_model.pkl'\n",
    "\n",
    "# Save the trained model to the specified path\n",
    "#joblib.dump(random_forest, model_path)\n",
    "\n",
    "print(f\"Model saved \")\n"
   ]
  },
  {
   "cell_type": "code",
   "execution_count": 24,
   "id": "f30465d7",
   "metadata": {
    "id": "f30465d7"
   },
   "outputs": [],
   "source": [
    "Result= random_forest.predict(np.array([[48.0,80.0,1.020,1.0,0.0,0.189516,0.0,0.0,0.0,0.0,0.0,0.0]]))"
   ]
  },
  {
   "cell_type": "code",
   "execution_count": null,
   "id": "f2e72b14",
   "metadata": {
    "id": "f2e72b14",
    "outputId": "d1e74e73-12a5-4e3c-9474-e991e4f919fa"
   },
   "outputs": [
    {
     "name": "stdout",
     "output_type": "stream",
     "text": [
      "Output :  Healthy\n"
     ]
    }
   ],
   "source": [
    "if Result[0]==1:\n",
    "   print('Output : ', 'Chronic Kidney Disease')\n",
    "else:\n",
    "   print('Output : ', 'Healthy')"
   ]
  },
  {
   "cell_type": "code",
   "execution_count": null,
   "id": "d11f2cb5",
   "metadata": {
    "id": "d11f2cb5"
   },
   "outputs": [],
   "source": [
    "Result= random_forest.predict(np.array([[58.0,80.0,1.025,0.0,0.0,0.000000,0.0,0.0,0.0,0.0,0.0,0.0]]))"
   ]
  },
  {
   "cell_type": "code",
   "execution_count": null,
   "id": "78b4d95e",
   "metadata": {
    "id": "78b4d95e",
    "outputId": "51d5e0d1-08f8-4b2d-f70f-85dbcd3abaf8"
   },
   "outputs": [
    {
     "name": "stdout",
     "output_type": "stream",
     "text": [
      "Output :  Chronic Kidney Disease\n"
     ]
    }
   ],
   "source": [
    "if Result[0]==1:\n",
    "   print('Output : ', 'Chronic Kidney Disease')\n",
    "else:\n",
    "   print('Output : ', 'Healthy')"
   ]
  },
  {
   "cell_type": "code",
   "execution_count": null,
   "id": "010e786d",
   "metadata": {
    "id": "010e786d",
    "outputId": "af54a069-b3e1-40e7-e21b-ad2708819599"
   },
   "outputs": [
    {
     "name": "stdout",
     "output_type": "stream",
     "text": [
      "Enter age: 48.0\n",
      "Enter blood pressure (bp): 80.0\n",
      "Enter specific gravity (sg): 1.020\n",
      "Enter albumin (al): 1.0\n",
      "Enter sugar (su): 0.0\n",
      "Enter red blood cells count (rbc, 0 or 1): 0.189516\n",
      "Enter pus cell count (pc, 0 or 1): 0.0\n",
      "Enter pus cell clumps (pcc, 0 or 1): 0.0\n",
      "Enter bacteria (ba, 0 or 1): 0.0\n",
      "Enter appetite (appet, 0 or 1): 0.0\n",
      "Enter pedal edema (pe, 0 or 1): 0.0\n",
      "Enter anemia (ane, 0 or 1): 0.0\n",
      "The person is healthy (0).\n"
     ]
    }
   ],
   "source": [
    "\n",
    "# Function to get user input for each feature\n",
    "def get_user_input():\n",
    "    age = float(input(\"Enter age: \"))\n",
    "    bp = float(input(\"Enter blood pressure (bp): \"))\n",
    "    sg = float(input(\"Enter specific gravity (sg): \"))\n",
    "    al = float(input(\"Enter albumin (al): \"))\n",
    "    su = float(input(\"Enter sugar (su): \"))\n",
    "    rbc = float(input(\"Enter red blood cells count (rbc, 0 or 1): \"))  # Use 0 or 1 to represent normal/abnormal\n",
    "    pc = float(input(\"Enter pus cell count (pc, 0 or 1): \"))  # Use 0 or 1 to represent normal/abnormal\n",
    "    pcc = float(input(\"Enter pus cell clumps (pcc, 0 or 1): \"))  # Use 0 or 1 to represent present/absent\n",
    "    ba = float(input(\"Enter bacteria (ba, 0 or 1): \"))  # Use 0 or 1 to represent present/absent\n",
    "    appet = float(input(\"Enter appetite (appet, 0 or 1): \"))  # Use 0 or 1 to represent good/poor\n",
    "    pe = float(input(\"Enter pedal edema (pe, 0 or 1): \"))  # Use 0 or 1 to represent present/absent\n",
    "    ane = float(input(\"Enter anemia (ane, 0 or 1): \"))  # Use 0 or 1 to represent present/absent\n",
    "\n",
    "    # Return the user input as a numpy array\n",
    "    return np.array([[age, bp, sg, al, su, rbc, pc, pcc, ba, appet, pe, ane]])\n",
    "\n",
    "# Get input from user\n",
    "user_data = get_user_input()\n",
    "\n",
    "# Make prediction based on user input\n",
    "prediction =random_forest.predict(user_data)  # Use model object instead of svm\n",
    "\n",
    "# Output the result\n",
    "if prediction == 0:\n",
    "    print(\"The person is healthy (0).\")\n",
    "else:\n",
    "    print(\"The person has chronic kidney disease (1).\")\n"
   ]
  }
 ],
 "metadata": {
  "colab": {
   "provenance": []
  },
  "kernelspec": {
   "display_name": "Python 3 (ipykernel)",
   "language": "python",
   "name": "python3"
  },
  "language_info": {
   "codemirror_mode": {
    "name": "ipython",
    "version": 3
   },
   "file_extension": ".py",
   "mimetype": "text/x-python",
   "name": "python",
   "nbconvert_exporter": "python",
   "pygments_lexer": "ipython3",
   "version": "3.11.5"
  },
  "papermill": {
   "default_parameters": {},
   "duration": 35.041032,
   "end_time": "2023-07-08T08:38:12.698740",
   "environment_variables": {},
   "exception": null,
   "input_path": "__notebook__.ipynb",
   "output_path": "__notebook__.ipynb",
   "parameters": {},
   "start_time": "2023-07-08T08:37:37.657708",
   "version": "2.4.0"
  }
 },
 "nbformat": 4,
 "nbformat_minor": 5
}
